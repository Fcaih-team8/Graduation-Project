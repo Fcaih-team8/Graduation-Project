{
 "cells": [
  {
   "cell_type": "markdown",
   "metadata": {},
   "source": [
    "📌 1️⃣ تحميل المكتبات والبيانات"
   ]
  },
  {
   "cell_type": "code",
   "execution_count": 1,
   "metadata": {},
   "outputs": [],
   "source": [
    "import pandas as pd\n",
    "import seaborn as sns\n",
    "import matplotlib.pyplot as plt\n",
    "\n",
    "# تحميل بيانات التدريب والاختبار\n",
    "train_df = pd.read_csv(r\"E:\\Graduation-Project\\NIDS\\dataset\\UNSW-NB15\\UNSW_NB15_training-set.csv\")\n",
    "test_df = pd.read_csv(r\"E:\\Graduation-Project\\NIDS\\dataset\\UNSW-NB15\\UNSW_NB15_testing-set.csv\")"
   ]
  },
  {
   "cell_type": "markdown",
   "metadata": {},
   "source": [
    "📌 2️⃣ فحص القيم الناقصة والمكررة"
   ]
  },
  {
   "cell_type": "code",
   "execution_count": 2,
   "metadata": {},
   "outputs": [
    {
     "name": "stdout",
     "output_type": "stream",
     "text": [
      "🔹 حجم بيانات التدريب: (82332, 45)\n",
      "🔹 حجم بيانات الاختبار: (175341, 45)\n",
      "\n",
      "🔍 القيم الناقصة في بيانات التدريب:\n",
      "id                   0\n",
      "dur                  0\n",
      "proto                0\n",
      "service              0\n",
      "state                0\n",
      "spkts                0\n",
      "dpkts                0\n",
      "sbytes               0\n",
      "dbytes               0\n",
      "rate                 0\n",
      "sttl                 0\n",
      "dttl                 0\n",
      "sload                0\n",
      "dload                0\n",
      "sloss                0\n",
      "dloss                0\n",
      "sinpkt               0\n",
      "dinpkt               0\n",
      "sjit                 0\n",
      "djit                 0\n",
      "swin                 0\n",
      "stcpb                0\n",
      "dtcpb                0\n",
      "dwin                 0\n",
      "tcprtt               0\n",
      "synack               0\n",
      "ackdat               0\n",
      "smean                0\n",
      "dmean                0\n",
      "trans_depth          0\n",
      "response_body_len    0\n",
      "ct_srv_src           0\n",
      "ct_state_ttl         0\n",
      "ct_dst_ltm           0\n",
      "ct_src_dport_ltm     0\n",
      "ct_dst_sport_ltm     0\n",
      "ct_dst_src_ltm       0\n",
      "is_ftp_login         0\n",
      "ct_ftp_cmd           0\n",
      "ct_flw_http_mthd     0\n",
      "ct_src_ltm           0\n",
      "ct_srv_dst           0\n",
      "is_sm_ips_ports      0\n",
      "attack_cat           0\n",
      "label                0\n",
      "dtype: int64\n",
      "\n",
      "🔍 القيم الناقصة في بيانات الاختبار:\n",
      "id                   0\n",
      "dur                  0\n",
      "proto                0\n",
      "service              0\n",
      "state                0\n",
      "spkts                0\n",
      "dpkts                0\n",
      "sbytes               0\n",
      "dbytes               0\n",
      "rate                 0\n",
      "sttl                 0\n",
      "dttl                 0\n",
      "sload                0\n",
      "dload                0\n",
      "sloss                0\n",
      "dloss                0\n",
      "sinpkt               0\n",
      "dinpkt               0\n",
      "sjit                 0\n",
      "djit                 0\n",
      "swin                 0\n",
      "stcpb                0\n",
      "dtcpb                0\n",
      "dwin                 0\n",
      "tcprtt               0\n",
      "synack               0\n",
      "ackdat               0\n",
      "smean                0\n",
      "dmean                0\n",
      "trans_depth          0\n",
      "response_body_len    0\n",
      "ct_srv_src           0\n",
      "ct_state_ttl         0\n",
      "ct_dst_ltm           0\n",
      "ct_src_dport_ltm     0\n",
      "ct_dst_sport_ltm     0\n",
      "ct_dst_src_ltm       0\n",
      "is_ftp_login         0\n",
      "ct_ftp_cmd           0\n",
      "ct_flw_http_mthd     0\n",
      "ct_src_ltm           0\n",
      "ct_srv_dst           0\n",
      "is_sm_ips_ports      0\n",
      "attack_cat           0\n",
      "label                0\n",
      "dtype: int64\n",
      "\n",
      "🔄 عدد البيانات المكررة في بيانات التدريب: 0\n",
      "🔄 عدد البيانات المكررة في بيانات الاختبار: 0\n"
     ]
    }
   ],
   "source": [
    "# 🔍 التأكد من حجم البيانات\n",
    "print(f\"🔹 حجم بيانات التدريب: {train_df.shape}\")\n",
    "print(f\"🔹 حجم بيانات الاختبار: {test_df.shape}\")\n",
    "\n",
    "# 🔍 فحص القيم الناقصة\n",
    "print(\"\\n🔍 القيم الناقصة في بيانات التدريب:\")\n",
    "print(train_df.isnull().sum())\n",
    "\n",
    "print(\"\\n🔍 القيم الناقصة في بيانات الاختبار:\")\n",
    "print(test_df.isnull().sum())\n",
    "\n",
    "# 🔄 التأكد من عدم وجود بيانات مكررة\n",
    "print(\"\\n🔄 عدد البيانات المكررة في بيانات التدريب:\", train_df.duplicated().sum())\n",
    "print(\"🔄 عدد البيانات المكررة في بيانات الاختبار:\", test_df.duplicated().sum())"
   ]
  },
  {
   "cell_type": "markdown",
   "metadata": {},
   "source": [
    "📌 3️⃣ استكشاف توزيع الفئات (Normal vs Attacks)"
   ]
  },
  {
   "cell_type": "code",
   "execution_count": 3,
   "metadata": {},
   "outputs": [
    {
     "name": "stdout",
     "output_type": "stream",
     "text": [
      "\n",
      "🔹 توزيع القيم في 'label':\n",
      "label\n",
      "1    45332\n",
      "0    37000\n",
      "Name: count, dtype: int64\n",
      "\n",
      "🔹 توزيع القيم في 'attack_cat':\n",
      "attack_cat\n",
      "Normal            37000\n",
      "Generic           18871\n",
      "Exploits          11132\n",
      "Fuzzers            6062\n",
      "DoS                4089\n",
      "Reconnaissance     3496\n",
      "Analysis            677\n",
      "Backdoor            583\n",
      "Shellcode           378\n",
      "Worms                44\n",
      "Name: count, dtype: int64\n",
      "\n",
      "🔹 10 صفوف عشوائية من البيانات:\n",
      "          id       dur proto service state  spkts  dpkts  sbytes  dbytes  \\\n",
      "24133  24134  0.001611   udp       -   CON      4      4     536     304   \n",
      "21567  21568  0.000009   udp     dns   INT      2      0     114       0   \n",
      "44698  44699  0.000007   udp       -   INT      2      0     104       0   \n",
      "5764    5765  0.000009   udp       -   INT      2      0     572       0   \n",
      "29699  29700  0.001002   udp     dns   CON      2      2     130     162   \n",
      "22645  22646  0.000003   udp     dns   INT      2      0     114       0   \n",
      "76443  76444  0.409785   tcp       -   FIN     10      6     534     268   \n",
      "19361  19362  0.000002   udp     dns   INT      2      0     114       0   \n",
      "50783  50784  0.190967   tcp       -   FIN     10      6    2106     268   \n",
      "57511  57512  0.000011   udp     dns   INT      2      0     114       0   \n",
      "\n",
      "                rate  ...  ct_dst_sport_ltm  ct_dst_src_ltm  is_ftp_login  \\\n",
      "24133    4345.127133  ...                 1               3             0   \n",
      "21567  111111.107200  ...                16              40             0   \n",
      "44698  142857.140900  ...                 1               2             0   \n",
      "5764   111111.107200  ...                 1               1             0   \n",
      "29699    2994.012136  ...                 1               1             0   \n",
      "22645  333333.321500  ...                25              25             0   \n",
      "76443      36.604561  ...                 1               5             0   \n",
      "19361  500000.001300  ...                18              36             0   \n",
      "50783      78.547605  ...                 1               1             0   \n",
      "57511   90909.090200  ...                 3               3             0   \n",
      "\n",
      "       ct_ftp_cmd  ct_flw_http_mthd  ct_src_ltm  ct_srv_dst  is_sm_ips_ports  \\\n",
      "24133           0                 0           5           9                0   \n",
      "21567           0                 0          23          40                0   \n",
      "44698           0                 0           4           4                0   \n",
      "5764            0                 0           1           1                0   \n",
      "29699           0                 0           1           3                0   \n",
      "22645           0                 0          26          25                0   \n",
      "76443           0                 0           2           5                0   \n",
      "19361           0                 0          18          36                0   \n",
      "50783           0                 0           1           1                0   \n",
      "57511           0                 0           3          17                0   \n",
      "\n",
      "       attack_cat  label  \n",
      "24133      Normal      0  \n",
      "21567     Generic      1  \n",
      "44698     Fuzzers      1  \n",
      "5764      Fuzzers      1  \n",
      "29699      Normal      0  \n",
      "22645     Generic      1  \n",
      "76443      Normal      0  \n",
      "19361     Generic      1  \n",
      "50783    Exploits      1  \n",
      "57511     Generic      1  \n",
      "\n",
      "[10 rows x 45 columns]\n"
     ]
    }
   ],
   "source": [
    "# 🔍 توزيع القيم في `label` و `attack_cat`\n",
    "print(\"\\n🔹 توزيع القيم في 'label':\")\n",
    "print(train_df[\"label\"].value_counts())\n",
    "\n",
    "print(\"\\n🔹 توزيع القيم في 'attack_cat':\")\n",
    "print(train_df[\"attack_cat\"].value_counts())\n",
    "\n",
    "# 🧐 عرض 10 صفوف عشوائية لفحص البيانات\n",
    "print(\"\\n🔹 10 صفوف عشوائية من البيانات:\")\n",
    "print(train_df.sample(10))"
   ]
  },
  {
   "cell_type": "markdown",
   "metadata": {},
   "source": [
    "توزيع ال Labels و ال attacks"
   ]
  },
  {
   "cell_type": "code",
   "execution_count": 4,
   "metadata": {},
   "outputs": [
    {
     "name": "stderr",
     "output_type": "stream",
     "text": [
      "C:\\Users\\Shahd\\AppData\\Local\\Temp\\ipykernel_19724\\180132433.py:3: FutureWarning: \n",
      "\n",
      "Passing `palette` without assigning `hue` is deprecated and will be removed in v0.14.0. Assign the `x` variable to `hue` and set `legend=False` for the same effect.\n",
      "\n",
      "  sns.countplot(data=train_df, x=\"label\", palette=\"coolwarm\")\n"
     ]
    },
    {
     "data": {
      "image/png": "[encoded data removed]",
      "text/plain": [
       "<Figure size 800x500 with 1 Axes>"
      ]
     },
     "metadata": {},
     "output_type": "display_data"
    },
    {
     "name": "stderr",
     "output_type": "stream",
     "text": [
      "C:\\Users\\Shahd\\AppData\\Local\\Temp\\ipykernel_19724\\180132433.py:9: FutureWarning: \n",
      "\n",
      "Passing `palette` without assigning `hue` is deprecated and will be removed in v0.14.0. Assign the `y` variable to `hue` and set `legend=False` for the same effect.\n",
      "\n",
      "  sns.countplot(data=train_df, y=\"attack_cat\", palette=\"viridis\", order=train_df[\"attack_cat\"].value_counts().index)\n"
     ]
    },
    {
     "data": {
      "image/png": "[encoded data removed]",
      "text/plain": [
       "<Figure size 1200x500 with 1 Axes>"
      ]
     },
     "metadata": {},
     "output_type": "display_data"
    }
   ],
   "source": [
    "\n",
    "# 📊 رسم بياني لتوزيع الـ labels\n",
    "plt.figure(figsize=(8, 5))\n",
    "sns.countplot(data=train_df, x=\"label\", palette=\"coolwarm\")\n",
    "plt.title(\"Distribution of values ​​in'label'\")\n",
    "plt.show()\n",
    "\n",
    "# 📊 رسم بياني لتوزيع الفئات الهجومية `attack_cat`\n",
    "plt.figure(figsize=(12, 5))\n",
    "sns.countplot(data=train_df, y=\"attack_cat\", palette=\"viridis\", order=train_df[\"attack_cat\"].value_counts().index)\n",
    "plt.title(\"Distribution of values ​​in'attack_cat'\")\n",
    "plt.show()"
   ]
  }
 ],
 "metadata": {
  "kernelspec": {
   "display_name": "Python 3",
   "language": "python",
   "name": "python3"
  },
  "language_info": {
   "codemirror_mode": {
    "name": "ipython",
    "version": 3
   },
   "file_extension": ".py",
   "mimetype": "text/x-python",
   "name": "python",
   "nbconvert_exporter": "python",
   "pygments_lexer": "ipython3",
   "version": "3.12.6"
  }
 },
 "nbformat": 4,
 "nbformat_minor": 2
}
